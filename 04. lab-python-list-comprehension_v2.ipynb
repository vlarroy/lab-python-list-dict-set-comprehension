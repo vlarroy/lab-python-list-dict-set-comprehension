{
 "cells": [
  {
   "cell_type": "markdown",
   "id": "25d7736c-ba17-4aff-b6bb-66eba20fbf4e",
   "metadata": {},
   "source": [
    "# Lab | List, Dict and Set Comprehension"
   ]
  },
  {
   "cell_type": "markdown",
   "id": "7dd3cbde-675a-4b81-92c3-f728846dbe06",
   "metadata": {},
   "source": [
    "## Exercise: Managing Customer Orders Optimized with Comprehension"
   ]
  },
  {
   "cell_type": "markdown",
   "id": "5d500160-2fb7-4777-b5e4-09d45ebaf328",
   "metadata": {},
   "source": [
    "In the previous exercise, you developed a program to manage customer orders and inventory. Now, let's take it a step further and incorporate comprehension into your code.\n",
    "\n",
    "Follow the steps below to complete the exercise:\n",
    "\n",
    "1. Review your code from the previous exercise and identify areas where you can apply comprehension to simplify and streamline your code. \n",
    "\n",
    "    - *Hint: Apply it to initialize inventory, updating the inventory and printing the updated inventory.*\n",
    "    \n",
    "    - For example, in initializing the inventory, we could have:\n",
    "    \n",
    "        ```python\n",
    "        def initialize_inventory(products):\n",
    "            inventory = {product: int(input(f\"Enter the quantity of {product}s available: \")) for product in products}\n",
    "            return inventory\n",
    "\n",
    "        ```\n",
    "<br>\n",
    "    \n",
    "    \n",
    "2. Modify the function get_customer_orders so it prompts the user to enter the number of customer orders and gathers the product names using a loop and user input. Use comprehension.\n",
    "\n",
    "3. Add a new function to calculate the total price of the customer order. For each product in customer_orders, prompt the user to enter the price of that product. Use comprehension to calculate the total price. Note: assume that the user can only have 1 unit of each product.\n",
    "\n",
    "4. Modify the update_inventory function to remove the product from the inventory if its quantity becomes zero after fulfilling the customer orders. Use comprehension to filter out the products with a quantity of zero from the inventory.\n",
    "\n",
    "5. Print the total price of the customer order.\n",
    "\n",
    "Your code should produce output similar to the following:\n",
    "\n",
    "```python\n",
    "Enter the quantity of t-shirts available:  5\n",
    "Enter the quantity of mugs available:  4\n",
    "Enter the quantity of hats available:  3\n",
    "Enter the quantity of books available:  2\n",
    "Enter the quantity of keychains available:  1\n",
    "Enter the number of customer orders:  2\n",
    "Enter the name of a product that a customer wants to order:  hat\n",
    "Enter the name of a product that a customer wants to order:  keychain\n",
    "\n",
    "Order Statistics:\n",
    "Total Products Ordered: 2\n",
    "Percentage of Unique Products Ordered: 40.0\n",
    "\n",
    "Updated Inventory:\n",
    "t-shirt: 5\n",
    "mug: 4\n",
    "hat: 2\n",
    "book: 2\n",
    "Enter the price of keychain:  5\n",
    "Enter the price of hat:  10\n",
    "Total Price: 15.0\n",
    "\n",
    "```\n"
   ]
  },
  {
   "cell_type": "code",
   "execution_count": 33,
   "id": "c18d9b7c",
   "metadata": {},
   "outputs": [
    {
     "data": {
      "text/plain": [
       "{'hat': 9, 'book': 9, 'mug': 9}"
      ]
     },
     "execution_count": 33,
     "metadata": {},
     "output_type": "execute_result"
    }
   ],
   "source": [
    "#1. Review your code from the previous exercise and identify areas where you can apply comprehension to simplify and streamline your code. \n",
    "#1.1 Apply it to 'initialize inventory':\n",
    "def initialize_inventory(products: list) -> dict:\n",
    "    return {product:int(input(\"enter product quantity\")) for product in products}\n",
    "\n",
    "initialize_inventory([\"hat\", \"book\", \"mug\"])"
   ]
  },
  {
   "cell_type": "code",
   "execution_count": 40,
   "id": "a0f85d16",
   "metadata": {},
   "outputs": [
    {
     "name": "stdout",
     "output_type": "stream",
     "text": [
      "{'hat': 4, 'mug': 3, 'book': 2}\n"
     ]
    }
   ],
   "source": [
    "# 1.2 Apply it to 'updating the inventory':\n",
    "def update_inventory(customer_order: list, inventory: dict) -> dict:\n",
    "   \n",
    "   return {key:inventory[key] - (customer_order[key]) for key in customer_order if key in inventory}\n",
    "   \n",
    "updated_inventory = update_inventory(customer_order, inventory)\n",
    "inventory = {'hat': 5, 'mug': 5, 'book': 5}\n",
    "customer_order = {\"hat\": 1, \"mug\": 2, \"book\": 3}\n",
    "print(updated_inventory)"
   ]
  },
  {
   "cell_type": "code",
   "execution_count": 33,
   "id": "0f7072df",
   "metadata": {},
   "outputs": [
    {
     "data": {
      "text/plain": [
       "{'hat': 4, 'mug': 3, 'book': 2}"
      ]
     },
     "execution_count": 33,
     "metadata": {},
     "output_type": "execute_result"
    }
   ],
   "source": [
    "# 1.3 Apply it to print the updated the inventory':\n",
    "\n",
    "updated_inventory = {'hat': 4, 'mug': 3, 'book': 2}\n",
    "\n",
    "def print_updated_inventory(updated_inventory: dict) -> dict:\n",
    "    \n",
    "    return {key: value for key, value in updated_inventory.items()}\n",
    "\n",
    "print_updated_inventory(updated_inventory)"
   ]
  },
  {
   "cell_type": "code",
   "execution_count": 41,
   "id": "5218d7cb",
   "metadata": {},
   "outputs": [
    {
     "data": {
      "text/plain": [
       "['hat', 'mug', 'book']"
      ]
     },
     "execution_count": 41,
     "metadata": {},
     "output_type": "execute_result"
    }
   ],
   "source": [
    "#2. Modify the function get_customer_orders so it prompts the user to enter the number of customer orders and gathers the product names using a loop and user input.\n",
    "# Use comprehension.\n",
    "\n",
    "def get_customer_orders() -> list:\n",
    "    quantity = int(input(\"How many products you want to add?\"))\n",
    "    return [(input(\"enter the name of a product\")) for item in range(quantity)]\n",
    "   \n",
    "\n",
    "get_customer_orders()\n"
   ]
  },
  {
   "cell_type": "code",
   "execution_count": 40,
   "id": "584fdb38",
   "metadata": {},
   "outputs": [],
   "source": [
    "#3. Add a new function to calculate the total price of the customer order.\n",
    "# For each product in customer_orders, prompt the user to enter the price of that product.\n",
    "# Use comprehension to calculate the total price. Note: assume that the user can only have 1 unit of each product.\n",
    "def calculate_total_price(customer_orders: list) -> float:\n",
    "    return sum([float(input(\"enter the price of the product\")) for product in customer_orders])\n",
    "\n",
    "total_price = calculate_total_price(['hat', 'book', 'mug'])\n"
   ]
  },
  {
   "cell_type": "code",
   "execution_count": 21,
   "id": "573a4a58",
   "metadata": {},
   "outputs": [
    {
     "name": "stdout",
     "output_type": "stream",
     "text": [
      "{'hat': 0, 'mug': 3, 'book': 2}\n"
     ]
    }
   ],
   "source": [
    "#4. Modify the update_inventory function to remove the product from the inventory if its quantity becomes zero after fulfilling the customer orders. \n",
    "# Use comprehension to filter out the products with a quantity of zero from the inventory.\n",
    "\n",
    "#FIRST I DO IT WITH LOOPS:\n",
    "\n",
    "def update_inventory(customer_order: dict, inventory: dict) -> dict:\n",
    "    for product in customer_order:\n",
    "        inventory[product] = inventory[product] - customer_order[product] # resta la cantidad de la customer order de la cantidad del inventario\n",
    "        if inventory[product] <= 0: # si el resultado es <= 0, entonces elimina ese producto del inventario\n",
    "            del inventory[product]\n",
    "    return inventory\n",
    "   \n",
    "#calling the funcion:\n",
    "update_inventory({\"hat\": 1, \"mug\": 2, \"book\": 3}, {'hat': 5, 'mug': 5, 'book': 5})"
   ]
  },
  {
   "cell_type": "code",
   "execution_count": 38,
   "id": "786f9925",
   "metadata": {},
   "outputs": [
    {
     "data": {
      "text/plain": [
       "{'mug': 3, 'book': 2}"
      ]
     },
     "execution_count": 38,
     "metadata": {},
     "output_type": "execute_result"
    }
   ],
   "source": [
    "#NOW WITH COMPREHENSION\n",
    "\n",
    "def update_inventory(customer_order: dict, inventory: dict) -> dict:\n",
    "    inventory = {product: (inventory.get(product, 0) - quantity) for product, quantity in customer_order.items()} #primero pasamos el dict de customer_orders a tuple para poder iterar a la vez sobre keys y values. Luego, usamos .get() para obtener las cantidades de los productos. Si hay alguno que es cero, seteamos el valor y que ponga 0.\n",
    "    inventory = {product: quantity for product, quantity in inventory.items() if quantity > 0} #segundo paso: filtrar los negativos y == 0.\n",
    "    return inventory\n",
    "\n",
    "#calling the function:\n",
    "update_inventory({\"hat\": 5, \"mug\": 2, \"book\": 3}, {'hat': 5, 'mug': 5, 'book': 5}) #aquú he puesto customer_orders hat == 5, que es la misma cantidad que el inventario, para que se vea que, al ser 0, lo filtra."
   ]
  },
  {
   "cell_type": "code",
   "execution_count": 41,
   "id": "9a849a27",
   "metadata": {},
   "outputs": [
    {
     "name": "stdout",
     "output_type": "stream",
     "text": [
      "15.0\n"
     ]
    }
   ],
   "source": [
    "#5. Print the total price of the customer order.\n",
    "def print_calculate_total_price(totalPrice) -> float:\n",
    "    return print(totalPrice)\n",
    "\n",
    "#calling the function:\n",
    "print_calculate_total_price(total_price)"
   ]
  }
 ],
 "metadata": {
  "kernelspec": {
   "display_name": "Python 3 (ipykernel)",
   "language": "python",
   "name": "python3"
  },
  "language_info": {
   "codemirror_mode": {
    "name": "ipython",
    "version": 3
   },
   "file_extension": ".py",
   "mimetype": "text/x-python",
   "name": "python",
   "nbconvert_exporter": "python",
   "pygments_lexer": "ipython3",
   "version": "3.11.7"
  }
 },
 "nbformat": 4,
 "nbformat_minor": 5
}
